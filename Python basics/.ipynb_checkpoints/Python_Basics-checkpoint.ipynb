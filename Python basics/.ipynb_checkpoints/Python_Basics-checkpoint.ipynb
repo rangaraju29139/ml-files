{
 "cells": [
  {
   "cell_type": "markdown",
   "metadata": {},
   "source": [
    "# Introduction to Python\n",
    "1. How to check your Python version.\n",
    "2. This Notebook file will introduce basics of Python 3. \n",
    "    1. Datatypes\n",
    "    2. Variable declartion and assignment\n",
    "    3. Datatype conversions\n",
    "    4. Arthimetic Operators\n",
    "    5. Logical Operators\n",
    "    6. print and input fuctions\n",
    "    7. Diffrence between Python2 and Python3\n",
    "    \n"
   ]
  },
  {
   "cell_type": "code",
   "execution_count": 2,
   "metadata": {},
   "outputs": [
    {
     "name": "stdout",
     "output_type": "stream",
     "text": [
      "3.5.5\n",
      "3.5.5 |Anaconda, Inc.| (default, Apr  7 2018, 04:52:34) [MSC v.1900 64 bit (AMD64)]\n"
     ]
    }
   ],
   "source": [
    "import platform\n",
    "print(platform.python_version())\n",
    "print(platform.sys.version)"
   ]
  },
  {
   "cell_type": "code",
   "execution_count": 87,
   "metadata": {},
   "outputs": [
    {
     "name": "stdout",
     "output_type": "stream",
     "text": [
      "3.7.0 (default, Jun 28 2018, 08:04:48) [MSC v.1912 64 bit (AMD64)]\n"
     ]
    }
   ],
   "source": [
    "import sys\n",
    "print(sys.version)"
   ]
  },
  {
   "cell_type": "markdown",
   "metadata": {},
   "source": [
    "### Comments in Python\n",
    "1. Single line comment starts with #\n",
    "2. '''Mulltiple line comment enclosed with '''"
   ]
  },
  {
   "cell_type": "code",
   "execution_count": 88,
   "metadata": {},
   "outputs": [],
   "source": [
    "# a comment is a programmer-readable explanation\n"
   ]
  },
  {
   "cell_type": "code",
   "execution_count": 89,
   "metadata": {},
   "outputs": [
    {
     "name": "stdout",
     "output_type": "stream",
     "text": [
      "10\n"
     ]
    },
    {
     "data": {
      "text/plain": [
       "10"
      ]
     },
     "execution_count": 89,
     "metadata": {},
     "output_type": "execute_result"
    }
   ],
   "source": [
    "# Creating a variable a and assigning value 10\n",
    "a = 10\n",
    "print(a)\n",
    "a"
   ]
  },
  {
   "cell_type": "markdown",
   "metadata": {},
   "source": [
    "#### The following identifiers are used as reserved words, or keywords of the language, and cannot be used as ordinary identifiers(variables)\n",
    "<pre>\n",
    "False      await      else       import     pass\n",
    "None       break      except     in         raise\n",
    "True       class      finally    is         return\n",
    "and        continue   for        lambda     try\n",
    "as         def        from       nonlocal   while\n",
    "assert     del        global     not        with\n",
    "async      elif       if         or         yield\n",
    "<pre"
   ]
  },
  {
   "cell_type": "code",
   "execution_count": 90,
   "metadata": {},
   "outputs": [
    {
     "data": {
      "text/plain": [
       "20"
      ]
     },
     "execution_count": 90,
     "metadata": {},
     "output_type": "execute_result"
    }
   ],
   "source": [
    "# overwriting variable a with another value 20\n",
    "a = 20\n",
    "a"
   ]
  },
  {
   "cell_type": "code",
   "execution_count": 91,
   "metadata": {},
   "outputs": [
    {
     "name": "stdout",
     "output_type": "stream",
     "text": [
      "variable a is of  <class 'int'>\n"
     ]
    }
   ],
   "source": [
    "# checking which type of data is stored in variable a\n",
    "print('variable a is of ',type(a))"
   ]
  },
  {
   "cell_type": "code",
   "execution_count": 92,
   "metadata": {},
   "outputs": [
    {
     "name": "stdout",
     "output_type": "stream",
     "text": [
      "2 <class 'int'>\n",
      "hello is <class 'str'>\n",
      "23.76 is <class 'float'>\n",
      "True is <class 'bool'>\n"
     ]
    }
   ],
   "source": [
    "# check the types of different values\n",
    "print(2,type(2))\n",
    "print('hello is',type('hello'))\n",
    "print(23.76,'is',type(23.76))\n",
    "print(True,'is',type(True))"
   ]
  },
  {
   "cell_type": "code",
   "execution_count": 93,
   "metadata": {},
   "outputs": [
    {
     "name": "stdout",
     "output_type": "stream",
     "text": [
      "<class 'float'>\n"
     ]
    }
   ],
   "source": [
    "# overwriting variable a with other type value 20.23\n",
    "a = 20.23\n",
    "print(type(a))"
   ]
  },
  {
   "cell_type": "code",
   "execution_count": 94,
   "metadata": {},
   "outputs": [
    {
     "name": "stdout",
     "output_type": "stream",
     "text": [
      "20 <class 'int'>\n",
      "3.14 <class 'float'>\n",
      "python <class 'str'>\n",
      "True <class 'bool'>\n"
     ]
    }
   ],
   "source": [
    "# Creating different type of values with different varibles\n",
    "i = 20\n",
    "print(i,type(i))\n",
    "f = 3.14\n",
    "print(f,type(f))\n",
    "s = \"python\"\n",
    "print(s,type(s))\n",
    "b = True\n",
    "print(b,type(b))\n"
   ]
  },
  {
   "cell_type": "markdown",
   "metadata": {},
   "source": [
    "**Strings should be enclosed in single quotes or double quotes or triple quotes**"
   ]
  },
  {
   "cell_type": "code",
   "execution_count": 95,
   "metadata": {},
   "outputs": [
    {
     "name": "stdout",
     "output_type": "stream",
     "text": [
      "Python Python Python Python\n",
      "<class 'str'> <class 'str'> <class 'str'> <class 'str'>\n"
     ]
    }
   ],
   "source": [
    "single_quoted_string = 'Python'\n",
    "double_quoted_string = \"Python\"\n",
    "triple_quoted_string = '''Python'''\n",
    "triple_double_quoted_string = \"\"\"Python\"\"\"\n",
    "print(single_quoted_string,double_quoted_string,triple_quoted_string,triple_double_quoted_string)\n",
    "print(type(single_quoted_string),type(double_quoted_string),type(triple_quoted_string)\\\n",
    "      ,type(triple_double_quoted_string))"
   ]
  },
  {
   "cell_type": "code",
   "execution_count": 96,
   "metadata": {},
   "outputs": [
    {
     "name": "stdout",
     "output_type": "stream",
     "text": [
      "I don't\n",
      "I don't\n"
     ]
    }
   ],
   "source": [
    "#string_with_single_quote = 'I don't  \n",
    "# Uncomment above line and run it. Observe the syntax error\n",
    "string_with_single_quote = \"I don't\"\n",
    "print(string_with_single_quote)\n",
    "string_with_single_quote = '''I don't'''\n",
    "print(string_with_single_quote)"
   ]
  },
  {
   "cell_type": "markdown",
   "metadata": {},
   "source": [
    "<pre>In Python strings the backslash \"\\\" is a special character, also called the \"escape\" character.\n",
    "n triple-quoted literals, unescaped newlines and quotes are allowed (and are retained), except that three unescaped quotes in a row terminate the literal. (A “quote” is the character used to open the literal, i.e. either ' or \".)\n",
    "\n",
    "Unless an 'r' or 'R' prefix is present, escape sequences in string and bytes literals are interpreted according to rules similar to those used by Standard C. The recognized escape sequences are:\n",
    "\n",
    "Escape Sequence\tMeaning\n",
    "\\newline\tBackslash and newline ignored\t \n",
    "\\\\\tBackslash (\\)\t \n",
    "\\'\tSingle quote (')\t \n",
    "\\\"\tDouble quote (\")\t \n",
    "\\a\tASCII Bell (BEL)\t \n",
    "\\b\tASCII Backspace (BS)\t \n",
    "\\f\tASCII Formfeed (FF)\t \n",
    "\\n\tASCII Linefeed (LF)\t \n",
    "\\r\tASCII Carriage Return (CR)\t \n",
    "\\t\tASCII Horizontal Tab (TAB)\t \n",
    "\\v\tASCII Vertical Tab (VT)\t \n",
    "\\ooo\tCharacter with octal value ooo\t(1,3)\n",
    "\\xhh\tCharacter with hex value hh\t(2,3)\n",
    "Escape sequences only recognized in string literals are:</pre>"
   ]
  },
  {
   "cell_type": "code",
   "execution_count": 97,
   "metadata": {},
   "outputs": [
    {
     "name": "stdout",
     "output_type": "stream",
     "text": [
      "I don't\n"
     ]
    }
   ],
   "source": [
    "string_with_single_quote = 'I don\\'t' \n",
    "print(string_with_single_quote)"
   ]
  },
  {
   "cell_type": "code",
   "execution_count": 98,
   "metadata": {},
   "outputs": [
    {
     "name": "stdout",
     "output_type": "stream",
     "text": [
      "first line\n",
      "Second line\n",
      "Third line\n",
      "Fourth line\n"
     ]
    }
   ],
   "source": [
    "multiline_string = '''first line\n",
    "Second line\n",
    "Third line\n",
    "Fourth line'''\n",
    "print(multiline_string)"
   ]
  },
  {
   "cell_type": "code",
   "execution_count": 99,
   "metadata": {},
   "outputs": [
    {
     "data": {
      "text/plain": [
       "'first line\\nSecond line\\nThird line\\nFourth line'"
      ]
     },
     "execution_count": 99,
     "metadata": {},
     "output_type": "execute_result"
    }
   ],
   "source": [
    "# In the variable enter will be stored as \\n\n",
    "multiline_string"
   ]
  },
  {
   "cell_type": "code",
   "execution_count": 100,
   "metadata": {},
   "outputs": [
    {
     "name": "stdout",
     "output_type": "stream",
     "text": [
      "check\n",
      "check2\ttabspace\n"
     ]
    }
   ],
   "source": [
    "string_with_enter = 'check\\ncheck2\\ttabspace'\n",
    "print(string_with_enter)"
   ]
  },
  {
   "cell_type": "code",
   "execution_count": 101,
   "metadata": {},
   "outputs": [
    {
     "name": "stdout",
     "output_type": "stream",
     "text": [
      "'h' is <class 'str'>\n",
      "'2' is <class 'str'>\n",
      "'5324.5476' is <class 'str'>\n",
      "'True' is <class 'str'>\n"
     ]
    }
   ],
   "source": [
    "# Any value enclosed in single double or triple quotes considered as string\n",
    "print(\"'h'\",'is',type('h'))\n",
    "print(\"'2'\",'is',type('2'))\n",
    "print(\"'5324.5476'\",'is',type('5324.5476'))\n",
    "print(\"'True'\",'is',type('True'))"
   ]
  },
  {
   "cell_type": "code",
   "execution_count": 102,
   "metadata": {},
   "outputs": [
    {
     "name": "stdout",
     "output_type": "stream",
     "text": [
      "34 <class 'int'>\n",
      "34.0 <class 'float'>\n",
      "34.78 <class 'str'>\n"
     ]
    }
   ],
   "source": [
    "# value type conversions\n",
    "a = int(34.78)\n",
    "print(a,type(a))\n",
    "b = float(34)\n",
    "print(b,type(b))\n",
    "s = str('34.78')\n",
    "print(s,type(s))"
   ]
  },
  {
   "cell_type": "code",
   "execution_count": 103,
   "metadata": {},
   "outputs": [
    {
     "name": "stdout",
     "output_type": "stream",
     "text": [
      "True <class 'bool'>\n",
      "True <class 'bool'>\n",
      "True <class 'bool'>\n",
      "False <class 'bool'>\n"
     ]
    }
   ],
   "source": [
    "# bool function will return true for input other than zero\n",
    "t = bool(20)\n",
    "print(t,type(t))\n",
    "t1 = bool('False')\n",
    "print(t1,type(t1))\n",
    "t2 = bool('0')\n",
    "print(t2,type(t2))\n",
    "t3 = bool(0)\n",
    "print(t3,type(t3))"
   ]
  },
  {
   "cell_type": "code",
   "execution_count": 104,
   "metadata": {},
   "outputs": [
    {
     "name": "stdout",
     "output_type": "stream",
     "text": [
      "50\n",
      "-10\n",
      "6\n",
      "2.5\n",
      "2\n",
      "1\n"
     ]
    }
   ],
   "source": [
    "# Arithmetic operators on integer type values\n",
    "a = 20 + 30 # Addition\n",
    "print(a)  \n",
    "s = 20 - 30 # Subtraction\n",
    "print(s)\n",
    "m = 2 * 3   # Multiplication\n",
    "print(m)\n",
    "d = 5 / 2   # Flaoting point Division\n",
    "print(d)\n",
    "fd =5 // 2  # Floor Division\n",
    "print(fd)\n",
    "r = 7 % 2   # Modulo opertor - gives remainder\n",
    "print(r)"
   ]
  },
  {
   "cell_type": "code",
   "execution_count": 105,
   "metadata": {},
   "outputs": [
    {
     "name": "stdout",
     "output_type": "stream",
     "text": [
      "-6\n",
      "-2.5\n",
      "-3\n",
      "1\n"
     ]
    }
   ],
   "source": [
    "# Arithmetic operators With negative values\n",
    "m = (-2) * 3   # Multiplication\n",
    "print(m)\n",
    "d = (-5) / 2   # Flaoting point Division\n",
    "print(d)\n",
    "fd = (-5) // 2  # Floor Division\n",
    "print(fd)\n",
    "r = (-7) % 2   # Modulo opertor - gives remainder\n",
    "print(r)"
   ]
  },
  {
   "cell_type": "code",
   "execution_count": 107,
   "metadata": {},
   "outputs": [
    {
     "name": "stdout",
     "output_type": "stream",
     "text": [
      "51.0\n",
      "-9.98\n",
      "5.0\n",
      "2.75\n",
      "2.0\n",
      "1.5\n"
     ]
    }
   ],
   "source": [
    "# Arithmetic operators on float type values\n",
    "a = 20.72 + 30.28 # Addition\n",
    "print(a)  \n",
    "s = 20.72 - 30.70 # Subtraction\n",
    "print(s)\n",
    "m = 2.5 * 2   # Multiplication\n",
    "print(m)\n",
    "d = 5.5 / 2   # Flaoting point Division\n",
    "print(d)\n",
    "fd =5.5 // 2  # Floor Division\n",
    "print(fd)\n",
    "r = 7.5 % 2   # Modulo opertor - gives remainder\n",
    "print(r)"
   ]
  },
  {
   "cell_type": "code",
   "execution_count": 4,
   "metadata": {},
   "outputs": [
    {
     "name": "stdout",
     "output_type": "stream",
     "text": [
      "20.7230.28\n"
     ]
    },
    {
     "ename": "TypeError",
     "evalue": "unsupported operand type(s) for -: 'str' and 'str'",
     "output_type": "error",
     "traceback": [
      "\u001b[1;31m---------------------------------------------------------------------------\u001b[0m",
      "\u001b[1;31mTypeError\u001b[0m                                 Traceback (most recent call last)",
      "\u001b[1;32m<ipython-input-4-d04379cd0700>\u001b[0m in \u001b[0;36m<module>\u001b[1;34m()\u001b[0m\n\u001b[0;32m      3\u001b[0m \u001b[0mprint\u001b[0m\u001b[1;33m(\u001b[0m\u001b[0ma\u001b[0m\u001b[1;33m)\u001b[0m\u001b[1;33m\u001b[0m\u001b[0m\n\u001b[0;32m      4\u001b[0m \u001b[1;31m# Uncomment below lines and check one by one\u001b[0m\u001b[1;33m\u001b[0m\u001b[1;33m\u001b[0m\u001b[0m\n\u001b[1;32m----> 5\u001b[1;33m \u001b[0ms\u001b[0m \u001b[1;33m=\u001b[0m \u001b[1;34m'20.72'\u001b[0m \u001b[1;33m-\u001b[0m \u001b[1;34m'30.70'\u001b[0m \u001b[1;31m# Subtraction\u001b[0m\u001b[1;33m\u001b[0m\u001b[0m\n\u001b[0m\u001b[0;32m      6\u001b[0m \u001b[0mprint\u001b[0m\u001b[1;33m(\u001b[0m\u001b[0ms\u001b[0m\u001b[1;33m)\u001b[0m\u001b[1;33m\u001b[0m\u001b[0m\n\u001b[0;32m      7\u001b[0m \u001b[1;31m#m = '2.5' * '2'   # Multiplication\u001b[0m\u001b[1;33m\u001b[0m\u001b[1;33m\u001b[0m\u001b[0m\n",
      "\u001b[1;31mTypeError\u001b[0m: unsupported operand type(s) for -: 'str' and 'str'"
     ]
    }
   ],
   "source": [
    "# Arithmetic operators on string type values\n",
    "a = '20.72' + '30.28' # Addition on strings will give concatenation ouput \n",
    "print(a)  \n",
    "# Uncomment below lines and check one by one \n",
    "s = '20.72' - '30.70' # Subtraction\n",
    "print(s)\n",
    "m = '2.5' * '2'   # Multiplication\n",
    "print(m)\n",
    "#d = '5.5' / '2'   # Flaoting point Division\n",
    "#print(d)\n",
    "#fd ='5.5' // '2'  # Floor Division\n",
    "#print(fd)\n",
    "#r = '7.5' % '2'   # Modulo opertor - gives remainder\n",
    "#print(r)"
   ]
  },
  {
   "cell_type": "code",
   "execution_count": 116,
   "metadata": {},
   "outputs": [
    {
     "name": "stdout",
     "output_type": "stream",
     "text": [
      "True + True 2\n",
      "True + False 1\n",
      "False + False 0\n"
     ]
    }
   ],
   "source": [
    "# Arithmetic operators on bool type values\n",
    "print('True + True',True + True)\n",
    "print('True + False',True + False)\n",
    "print('False + False',False + False)"
   ]
  },
  {
   "cell_type": "code",
   "execution_count": 117,
   "metadata": {},
   "outputs": [
    {
     "name": "stdout",
     "output_type": "stream",
     "text": [
      "True - True 0\n",
      "True - False 1\n",
      "False - False 0\n",
      "False - True -1\n"
     ]
    }
   ],
   "source": [
    "print('True - True',True - True)\n",
    "print('True - False',True - False)\n",
    "print('False - False',False - False)\n",
    "print('False - True',False - True)"
   ]
  },
  {
   "cell_type": "code",
   "execution_count": 118,
   "metadata": {},
   "outputs": [
    {
     "name": "stdout",
     "output_type": "stream",
     "text": [
      "True * True 1\n",
      "True * False 0\n",
      "False * False 0\n",
      "False * True 0\n"
     ]
    }
   ],
   "source": [
    "print('True * True',True * True)\n",
    "print('True * False',True * False)\n",
    "print('False * False',False * False)\n",
    "print('False * True',False * True)"
   ]
  },
  {
   "cell_type": "code",
   "execution_count": 121,
   "metadata": {},
   "outputs": [
    {
     "name": "stdout",
     "output_type": "stream",
     "text": [
      "True / True 1.0\n",
      "False / True 0.0\n"
     ]
    }
   ],
   "source": [
    "print('True / True',True / True)\n",
    "#print('True / False',True / False) # division by zero not possible\n",
    "#print('False / False',False / False)\n",
    "print('False / True',False / True)"
   ]
  },
  {
   "cell_type": "code",
   "execution_count": 124,
   "metadata": {},
   "outputs": [
    {
     "name": "stdout",
     "output_type": "stream",
     "text": [
      "True // True 1\n",
      "False // True 0\n"
     ]
    }
   ],
   "source": [
    "print('True // True',True // True)\n",
    "#print('True // False',True // False) \n",
    "#print('False // False',False // False)\n",
    "print('False // True',False // True)"
   ]
  },
  {
   "cell_type": "code",
   "execution_count": 128,
   "metadata": {},
   "outputs": [
    {
     "name": "stdout",
     "output_type": "stream",
     "text": [
      "True % True 0\n",
      "False % True 0\n"
     ]
    }
   ],
   "source": [
    "print('True % True',True % True)\n",
    "#print('True % False',True % False) \n",
    "#print('False % False',False % False)\n",
    "print('False % True',False % True)"
   ]
  },
  {
   "cell_type": "markdown",
   "metadata": {},
   "source": [
    "#### References\n",
    "https://docs.python.org/3/reference/lexical_analysis.html"
   ]
  },
  {
   "cell_type": "code",
   "execution_count": null,
   "metadata": {},
   "outputs": [],
   "source": []
  },
  {
   "cell_type": "code",
   "execution_count": null,
   "metadata": {},
   "outputs": [],
   "source": []
  }
 ],
 "metadata": {
  "kernelspec": {
   "display_name": "Python 3",
   "language": "python",
   "name": "python3"
  },
  "language_info": {
   "codemirror_mode": {
    "name": "ipython",
    "version": 3
   },
   "file_extension": ".py",
   "mimetype": "text/x-python",
   "name": "python",
   "nbconvert_exporter": "python",
   "pygments_lexer": "ipython3",
   "version": "3.5.5"
  },
  "widgets": {
   "state": {},
   "version": "1.1.2"
  }
 },
 "nbformat": 4,
 "nbformat_minor": 2
}
